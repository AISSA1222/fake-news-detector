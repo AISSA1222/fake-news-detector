{
 "cells": [
  {
   "cell_type": "markdown",
   "metadata": {},
   "source": [
    "## Importing pandas an numpy"
   ]
  },
  {
   "cell_type": "code",
   "execution_count": 1,
   "metadata": {},
   "outputs": [],
   "source": [
    "import numpy as np # linear algebra\n",
    "import pandas as pd"
   ]
  },
  {
   "cell_type": "markdown",
   "metadata": {},
   "source": [
    "## load data using pandas"
   ]
  },
  {
   "cell_type": "code",
   "execution_count": 2,
   "metadata": {
    "execution": {
     "iopub.execute_input": "2023-06-08T21:05:46.054316Z",
     "iopub.status.busy": "2023-06-08T21:05:46.054052Z",
     "iopub.status.idle": "2023-06-08T21:05:47.434844Z",
     "shell.execute_reply": "2023-06-08T21:05:47.433835Z",
     "shell.execute_reply.started": "2023-06-08T21:05:46.054294Z"
    }
   },
   "outputs": [],
   "source": [
    "true = pd.read_csv(\"True.csv\")\n",
    "true[\"class\"]= 1\n",
    "fake = pd.read_csv(\"Fake.csv\")\n",
    "fake[\"class\"] = 0\n",
    "\n",
    "news = pd.concat([true,fake],axis=0,ignore_index=True)\n"
   ]
  },
  {
   "cell_type": "markdown",
   "metadata": {},
   "source": [
    "## CLEANING DATASET BY DELETING THE USELESS FEATURES AND NAN VALUES "
   ]
  },
  {
   "cell_type": "code",
   "execution_count": 3,
   "metadata": {
    "execution": {
     "iopub.execute_input": "2023-06-08T21:05:47.439122Z",
     "iopub.status.busy": "2023-06-08T21:05:47.438419Z",
     "iopub.status.idle": "2023-06-08T21:05:47.566802Z",
     "shell.execute_reply": "2023-06-08T21:05:47.565813Z",
     "shell.execute_reply.started": "2023-06-08T21:05:47.439088Z"
    }
   },
   "outputs": [
    {
     "name": "stdout",
     "output_type": "stream",
     "text": [
      "title    0.0\n",
      "text     0.0\n",
      "class    0.0\n",
      "dtype: float64\n",
      "title    0\n",
      "text     0\n",
      "class    0\n",
      "dtype: int64\n"
     ]
    }
   ],
   "source": [
    "\n",
    "del news[\"date\"]\n",
    "del news[\"subject\"]\n",
    "\n",
    "\n",
    "nan_value_portion =news.isna().sum()/ news.count()\n",
    "print(nan_value_portion)\n",
    "\n",
    "news_clean = news.dropna()\n",
    "print(news_clean.isna().sum())"
   ]
  },
  {
   "cell_type": "markdown",
   "metadata": {},
   "source": [
    "# shaffle the data"
   ]
  },
  {
   "cell_type": "code",
   "execution_count": 4,
   "metadata": {
    "execution": {
     "iopub.execute_input": "2023-06-08T21:05:47.569339Z",
     "iopub.status.busy": "2023-06-08T21:05:47.568252Z",
     "iopub.status.idle": "2023-06-08T21:05:47.594567Z",
     "shell.execute_reply": "2023-06-08T21:05:47.593515Z",
     "shell.execute_reply.started": "2023-06-08T21:05:47.569303Z"
    }
   },
   "outputs": [
    {
     "name": "stdout",
     "output_type": "stream",
     "text": [
      "22216    0\n",
      "27917    0\n",
      "25007    0\n",
      "1377     1\n",
      "32476    0\n",
      "        ..\n",
      "11284    1\n",
      "44732    0\n",
      "38158    0\n",
      "860      1\n",
      "15795    1\n",
      "Name: class, Length: 44898, dtype: int64\n"
     ]
    }
   ],
   "source": [
    "shaffled_news = news_clean.sample(frac=1,random_state=42)\n",
    "print(shaffled_news[\"class\"])"
   ]
  },
  {
   "cell_type": "markdown",
   "metadata": {},
   "source": [
    "## remove text noise punctuation marks"
   ]
  },
  {
   "cell_type": "code",
   "execution_count": 5,
   "metadata": {
    "execution": {
     "iopub.execute_input": "2023-06-08T21:05:47.597511Z",
     "iopub.status.busy": "2023-06-08T21:05:47.597164Z",
     "iopub.status.idle": "2023-06-08T21:06:01.734899Z",
     "shell.execute_reply": "2023-06-08T21:06:01.732801Z",
     "shell.execute_reply.started": "2023-06-08T21:05:47.597480Z"
    }
   },
   "outputs": [
    {
     "name": "stdout",
     "output_type": "stream",
     "text": [
      "washington reuters the head of a conservative republican faction in the u s congress who voted this month for a huge expansion of the national debt to pay for tax cuts called himself a fiscal conservative on sunday and urged budget restraint in in keeping with a sharp pivot under way among republicans u s representative mark meadows speaking on cbs face the nation drew a hard line on federal spending which lawmakers are bracing to do battle over in january when they return from the holidays on wednesday lawmakers will begin trying to pass a federal budget in a fight likely to be linked to other issues such as immigration policy even as the november congressional election campaigns approach in which republicans will seek to keep control of congress president donald trump and his republicans want a big budget increase in military spending while democrats also want proportional increases for non defense discretionary spending on programs that support education scientific research infrastructure public health and environmental protection the trump administration has already been willing to say we re going to increase non defense discretionary spending by about percent meadows chairman of the small but influential house freedom caucus said on the program now democrats are saying that s not enough we need to give the government a pay raise of to percent for a fiscal conservative i don t see where the rationale is eventually you run out of other people s money he said meadows was among republicans who voted in late december for their party s debt financed tax overhaul which is expected to balloon the federal budget deficit and add about trillion over years to the trillion national debt it s interesting to hear mark talk about fiscal responsibility democratic u s representative joseph crowley said on cbs crowley said the republican tax bill would require the united states to borrow trillion to be paid off by future generations to finance tax cuts for corporations and the rich this is one of the least fiscally responsible bills we ve ever seen passed in the history of the house of representatives i think we re going to be paying for this for many many years to come crowley said republicans insist the tax package the biggest u s tax overhaul in more than years will boost the economy and job growth house speaker paul ryan who also supported the tax bill recently went further than meadows making clear in a radio interview that welfare or entitlement reform as the party often calls it would be a top republican priority in in republican parlance entitlement programs mean food stamps housing assistance medicare and medicaid health insurance for the elderly poor and disabled as well as other programs created by washington to assist the needy democrats seized on ryan s early december remarks saying they showed republicans would try to pay for their tax overhaul by seeking spending cuts for social programs but the goals of house republicans may have to take a back seat to the senate where the votes of some democrats will be needed to approve a budget and prevent a government shutdown democrats will use their leverage in the senate which republicans narrowly control to defend both discretionary non defense programs and social spending while tackling the issue of the dreamers people brought illegally to the country as children trump in september put a march expiration date on the deferred action for childhood arrivals or daca program which protects the young immigrants from deportation and provides them with work permits the president has said in recent twitter messages he wants funding for his proposed mexican border wall and other immigration law changes in exchange for agreeing to help the dreamers representative debbie dingell told cbs she did not favor linking that issue to other policy objectives such as wall funding we need to do daca clean she said on wednesday trump aides will meet with congressional leaders to discuss those issues that will be followed by a weekend of strategy sessions for trump and republican leaders on jan and the white house said trump was also scheduled to meet on sunday with florida republican governor rick scott who wants more emergency aid the house has passed an billion aid package after hurricanes in florida texas and puerto rico and wildfires in california the package far exceeded the billion requested by the trump administration the senate has not yet voted on the aid \n"
     ]
    }
   ],
   "source": [
    "import string\n",
    "import re \n",
    "\n",
    "def clean(text):\n",
    "    text = text.lower()\n",
    "    text = re.sub(r'[^a-zA-Z\\s]', '  ', text)\n",
    "    text1= re.sub(r'\\s+',' ',text)\n",
    "    return text1\n",
    "\n",
    "X = shaffled_news[\"text\"].apply(lambda x:clean(x))\n",
    "Y = shaffled_news[\"class\"]\n",
    "print(X[0])"
   ]
  },
  {
   "cell_type": "markdown",
   "metadata": {},
   "source": [
    "# REMOVE STOP WORDS **"
   ]
  },
  {
   "cell_type": "code",
   "execution_count": 6,
   "metadata": {},
   "outputs": [
    {
     "name": "stdout",
     "output_type": "stream",
     "text": [
      "['washington', 'reuters', 'trump', 'campaign', 'adviser', 'george', 'papadopoulos', 'told', 'australian', 'diplomat', 'may', 'russia', 'political', 'dirt', 'democratic', 'presidential', 'candidate', 'hillary', 'clinton', 'new', 'york', 'times', 'reported', 'saturday', 'conversation', 'papadopoulos', 'diplomat', 'alexander', 'downer', 'london', 'driving', 'factor', 'behind', 'fbi', 'decision', 'open', 'counter', 'intelligence', 'investigation', 'moscow', 'contacts', 'trump', 'campaign', 'times', 'reported', 'two', 'months', 'meeting', 'australian', 'officials', 'passed', 'information', 'came', 'papadopoulos', 'american', 'counterparts', 'leaked', 'democratic', 'emails', 'began', 'appearing', 'online', 'according', 'newspaper', 'cited', 'four', 'current', 'former', 'u', 'foreign', 'officials', 'besides', 'information', 'australians', 'probe', 'federal', 'bureau', 'investigation', 'also', 'propelled', 'intelligence', 'friendly', 'governments', 'including', 'british', 'dutch', 'times', 'said', 'papadopoulos', 'chicago', 'based', 'international', 'energy', 'lawyer', 'pleaded', 'guilty', 'oct', 'lying', 'fbi', 'agents', 'contacts', 'people', 'claimed', 'ties', 'top', 'russian', 'officials', 'first', 'criminal', 'charge', 'alleging', 'links', 'trump', 'campaign', 'russia', 'white', 'house', 'played', 'former', 'aide', 'campaign', 'role', 'saying', 'extremely', 'limited', 'actions', 'took', 'would', 'new', 'york', 'times', 'however', 'reported', 'papadopoulos', 'helped', 'set', 'meeting', 'candidate', 'donald', 'trump', 'egyptian', 'president', 'abdel', 'fattah', 'al', 'sisi', 'edited', 'outline', 'trump', 'first', 'major', 'foreign', 'policy', 'speech', 'april', 'federal', 'investigation', 'led', 'special', 'counsel', 'robert', 'mueller', 'hung', 'trump', 'white', 'house', 'since', 'took', 'office', 'almost', 'year', 'ago', 'trump', 'allies', 'recently', 'accused', 'mueller', 'team', 'biased', 'republican', 'president', 'lawyers', 'papadopoulos', 'not', 'immediately', 'respond', 'requests', 'reuters', 'comment', 'mueller', 'office', 'declined', 'comment', 'trump', 'white', 'house', 'attorney', 'ty', 'cobb', 'declined', 'comment', 'new', 'york', 'times', 'report', 'respect', 'special', 'counsel', 'process', 'not', 'commenting', 'matters', 'said', 'statement', 'mueller', 'charged', 'four', 'trump', 'associates', 'including', 'papadopoulos', 'investigation', 'russia', 'denied', 'interfering', 'u', 'election', 'trump', 'said', 'no', 'collusion', 'campaign', 'moscow']\n"
     ]
    }
   ],
   "source": [
    "import nltk\n",
    "from nltk.corpus import stopwords\n",
    "from nltk.stem import PorterStemmer\n",
    "\n",
    "all_stopwords = set(stopwords.words('english'))\n",
    "exceptions = {\"no\",\"not\"}\n",
    "custom_stopwords = all_stopwords - exceptions\n",
    "stemmer = PorterStemmer()\n",
    "def remove_stopwords(text): \n",
    "    tokens = nltk.word_tokenize(text)\n",
    "    \n",
    "    filtered_tokens = [word for word in tokens if word not in custom_stopwords]\n",
    "   \n",
    "    return filtered_tokens\n",
    "\n",
    "X = X.apply(lambda x : remove_stopwords(x))\n",
    "\n",
    "print(X[3])"
   ]
  },
  {
   "cell_type": "markdown",
   "metadata": {},
   "source": [
    "## CONVERT TOKENS TO STRING"
   ]
  },
  {
   "cell_type": "code",
   "execution_count": 7,
   "metadata": {
    "execution": {
     "iopub.execute_input": "2023-06-08T21:11:40.260154Z",
     "iopub.status.busy": "2023-06-08T21:11:40.259740Z",
     "iopub.status.idle": "2023-06-08T21:11:40.770096Z",
     "shell.execute_reply": "2023-06-08T21:11:40.768878Z",
     "shell.execute_reply.started": "2023-06-08T21:11:40.260121Z"
    }
   },
   "outputs": [
    {
     "name": "stdout",
     "output_type": "stream",
     "text": [
      "listening several republican candidates president one could wonder cryogenic sleep past seven years still talking badly george w bush screwed things however no keep repeating lie nation much worse brink recession president obama took republican voters honestly insulted treated like idiots absent reality although maybe idiots absent reality republican candidates opportunistic repeating lie seven disastrous years obama marco rubio took media branch gop fox news give quick campaign message offer well wishes new year hi marco rubio senator florida candidate president united states leave behind look forward elections coming november year going chance turn america around seven disastrous years current president chance reclaim american dream running president resolution everything not restore american dream expand reach people change lives ever greatest country world greater ever america rubio want go back exactly one people losing homes one jobs lost rate per month one people could denied healthcare preexisting condition one th amendment ignored marriage equality exist one osama bin laden still alive one credit card companies still screw customers left right honestly rubio want turn america around sure hell looks though headed right direction anything could stand candidate continue obama progress advance rubio apparently wants america wall street runs show people die go bankrupt lack health coverage americans treated equally law america rubio wants thanks no thanks marcorubio year going chance turn america around foxnews https co yvze wpckg fox news foxnews january video featured image twitter\n"
     ]
    }
   ],
   "source": [
    "X_t = [' '.join(arr) for arr in X]\n",
    "print(X_t[10])"
   ]
  },
  {
   "cell_type": "markdown",
   "metadata": {},
   "source": [
    "## SPLIT DATASET"
   ]
  },
  {
   "cell_type": "code",
   "execution_count": 8,
   "metadata": {
    "execution": {
     "iopub.execute_input": "2023-06-08T21:44:32.591122Z",
     "iopub.status.busy": "2023-06-08T21:44:32.590708Z",
     "iopub.status.idle": "2023-06-08T21:44:32.616731Z",
     "shell.execute_reply": "2023-06-08T21:44:32.615687Z",
     "shell.execute_reply.started": "2023-06-08T21:44:32.591092Z"
    }
   },
   "outputs": [],
   "source": [
    "from sklearn.model_selection import train_test_split\n",
    "\n",
    "x_train, x_test, Y_train, Y_test = train_test_split(X_t, Y, test_size=0.2)\n"
   ]
  },
  {
   "cell_type": "markdown",
   "metadata": {},
   "source": [
    "## IMPORT LIBRARIES FOR TEXT VECTORIZING MODE , AND METRICS"
   ]
  },
  {
   "cell_type": "code",
   "execution_count": 9,
   "metadata": {
    "execution": {
     "iopub.execute_input": "2023-06-08T21:42:35.802817Z",
     "iopub.status.busy": "2023-06-08T21:42:35.802421Z",
     "iopub.status.idle": "2023-06-08T21:42:35.808322Z",
     "shell.execute_reply": "2023-06-08T21:42:35.807086Z",
     "shell.execute_reply.started": "2023-06-08T21:42:35.802788Z"
    }
   },
   "outputs": [],
   "source": [
    "from sklearn.feature_extraction.text import TfidfVectorizer\n",
    "from sklearn.metrics import accuracy_score\n"
   ]
  },
  {
   "cell_type": "markdown",
   "metadata": {},
   "source": [
    "## VECTORIZE TRAIN INPUT AND TEST INPUT "
   ]
  },
  {
   "cell_type": "code",
   "execution_count": 10,
   "metadata": {},
   "outputs": [
    {
     "name": "stdout",
     "output_type": "stream",
     "text": [
      "94953\n"
     ]
    }
   ],
   "source": [
    "vectorizer1 = TfidfVectorizer()\n",
    "\n",
    "x_tr_vec= vectorizer1.fit_transform(x_train)\n",
    "x_val_vec = vectorizer1.transform(x_test)\n",
    "print(vectorizer1.vocabulary_[\"trump\"])"
   ]
  },
  {
   "cell_type": "markdown",
   "metadata": {},
   "source": [
    "## UNDERSTANDING HOW VECTORIZING WORK BY PRINT THE OUTPUTS SHAPES "
   ]
  },
  {
   "cell_type": "code",
   "execution_count": 11,
   "metadata": {},
   "outputs": [
    {
     "name": "stdout",
     "output_type": "stream",
     "text": [
      "(35918, 105867)\n",
      "(8980, 105867)\n",
      "(1, 105867)\n"
     ]
    }
   ],
   "source": [
    "print(x_tr_vec.shape)\n",
    "print(x_val_vec.shape)\n",
    "print(vectorizer1.transform([\"trump white house immigration \"]).shape)"
   ]
  },
  {
   "cell_type": "code",
   "execution_count": 12,
   "metadata": {
    "execution": {
     "iopub.execute_input": "2023-06-08T22:47:25.139244Z",
     "iopub.status.busy": "2023-06-08T22:47:25.138790Z",
     "iopub.status.idle": "2023-06-08T22:47:25.279883Z",
     "shell.execute_reply": "2023-06-08T22:47:25.278819Z",
     "shell.execute_reply.started": "2023-06-08T22:47:25.139199Z"
    },
    "scrolled": true
   },
   "outputs": [
    {
     "name": "stdout",
     "output_type": "stream",
     "text": [
      "Accuracy: 0.965478841870824\n"
     ]
    }
   ],
   "source": [
    "from sklearn.naive_bayes import BernoulliNB\n",
    "\n",
    "classifier = BernoulliNB()\n",
    "classifier.fit(x_tr_vec, Y_train)\n",
    "\n",
    "# 5. Evaluate the classifier\n",
    "y_pred = classifier.predict(x_val_vec)\n",
    "accuracy = accuracy_score(Y_test, y_pred)\n",
    "print(\"Accuracy:\", accuracy)\n"
   ]
  },
  {
   "cell_type": "markdown",
   "metadata": {},
   "source": [
    "## Make predictions on new data"
   ]
  },
  {
   "cell_type": "code",
   "execution_count": 15,
   "metadata": {
    "execution": {
     "iopub.execute_input": "2023-06-08T23:16:49.122660Z",
     "iopub.status.busy": "2023-06-08T23:16:49.122222Z",
     "iopub.status.idle": "2023-06-08T23:16:49.136706Z",
     "shell.execute_reply": "2023-06-08T23:16:49.134292Z",
     "shell.execute_reply.started": "2023-06-08T23:16:49.122614Z"
    }
   },
   "outputs": [
    {
     "name": "stdout",
     "output_type": "stream",
     "text": [
      "[0]\n"
     ]
    }
   ],
   "source": [
    "new_text = 'he relinquished the unenviable job of White House press secretary, Sean Spicer was tasked with convincing reporters that Trump’s inauguration had drawn the largest audience to ever witness an inauguration, period, both in person and around the globe After a comparison of Barack Obama’s 2009 inauguration crowd size and Trump’s went viral, an analysis of both crowds showed that Trump’s was about one-third the size of Obama’s Following his resignation, Spicer walked back the first assertion he’d made on the job, saying in an interview that he had screwed up a number of times press secretary'\n",
    "new_text = new_text.lower()\n",
    "\n",
    "new_text_vectorized = vectorizer1.transform([new_text])\n",
    "\n",
    "print(classifier.predict(new_text_vectorized))\n",
    "\n"
   ]
  },
  {
   "cell_type": "markdown",
   "metadata": {},
   "source": [
    "## SAVE THE MODEL  and the vectorizor"
   ]
  },
  {
   "cell_type": "code",
   "execution_count": 14,
   "metadata": {
    "execution": {
     "iopub.execute_input": "2023-06-08T23:18:21.052551Z",
     "iopub.status.busy": "2023-06-08T23:18:21.052189Z",
     "iopub.status.idle": "2023-06-08T23:18:21.068281Z",
     "shell.execute_reply": "2023-06-08T23:18:21.067355Z",
     "shell.execute_reply.started": "2023-06-08T23:18:21.052522Z"
    }
   },
   "outputs": [
    {
     "data": {
      "text/plain": [
       "['vectorizer.joblib']"
      ]
     },
     "execution_count": 14,
     "metadata": {},
     "output_type": "execute_result"
    }
   ],
   "source": [
    "from joblib import dump\n",
    "dump(classifier, 'model_fake.joblib')\n",
    "dump(vectorizer1,'vectorizer.joblib')"
   ]
  }
 ],
 "metadata": {
  "kernelspec": {
   "display_name": "Python 3 (ipykernel)",
   "language": "python",
   "name": "python3"
  },
  "language_info": {
   "codemirror_mode": {
    "name": "ipython",
    "version": 3
   },
   "file_extension": ".py",
   "mimetype": "text/x-python",
   "name": "python",
   "nbconvert_exporter": "python",
   "pygments_lexer": "ipython3",
   "version": "3.10.6"
  }
 },
 "nbformat": 4,
 "nbformat_minor": 4
}
